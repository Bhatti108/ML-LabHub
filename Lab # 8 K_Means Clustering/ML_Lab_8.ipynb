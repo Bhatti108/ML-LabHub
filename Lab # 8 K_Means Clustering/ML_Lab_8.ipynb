{
  "nbformat": 4,
  "nbformat_minor": 0,
  "metadata": {
    "colab": {
      "provenance": []
    },
    "kernelspec": {
      "name": "python3",
      "display_name": "Python 3"
    },
    "language_info": {
      "name": "python"
    }
  },
  "cells": [
    {
      "cell_type": "markdown",
      "source": [
        "## 1: Import Libraries\n",
        "## This cell imports the necessary libraries:\n",
        "\n",
        "## random — to randomly select centroids.\n",
        "\n",
        "## matplotlib.pyplot — to plot graphs and show results visually."
      ],
      "metadata": {
        "id": "zSEZYx3vpPpk"
      }
    },
    {
      "cell_type": "code",
      "source": [
        "import random\n",
        "import matplotlib.pyplot as plt"
      ],
      "metadata": {
        "id": "kXaoX6HppdRr"
      },
      "execution_count": null,
      "outputs": []
    },
    {
      "cell_type": "markdown",
      "source": [
        "## 2: Create Dataset\n",
        "## This cell manually creates a small dataset of 20 points with x and y coordinates that we will use for clustering."
      ],
      "metadata": {
        "id": "o5MRBZVbpiyr"
      }
    },
    {
      "cell_type": "code",
      "source": [
        "# Step 1: Create a dataset manually\n",
        "data = [\n",
        "    (5, 25), (10, 20), (15, 30), (20, 25), (25, 20),\n",
        "    (30, 35), (35, 30), (40, 25), (45, 30), (50, 25),\n",
        "    (20, 5), (25, 10), (30, 5), (35, 10), (40, 5),\n",
        "    (5, 45), (10, 50), (15, 45), (20, 50), (25, 45)\n",
        "]\n"
      ],
      "metadata": {
        "id": "wg-R1DSNpofK"
      },
      "execution_count": null,
      "outputs": []
    },
    {
      "cell_type": "markdown",
      "source": [
        "## 3: Define Euclidean Distance Function\n",
        "## This function calculates the Euclidean distance (the straight-line distance) between two points. It will be used to find which centroid is closest to each point."
      ],
      "metadata": {
        "id": "46P7BTjjps_6"
      }
    },
    {
      "cell_type": "code",
      "source": [
        "# Step 2: Define the distance function (Euclidean Distance)\n",
        "def euclidean_distance(p1, p2):\n",
        "    return ((p1[0] - p2[0])**2 + (p1[1] - p2[1])**2) ** 0.5"
      ],
      "metadata": {
        "id": "1rASeftTp0dC"
      },
      "execution_count": null,
      "outputs": []
    },
    {
      "cell_type": "markdown",
      "source": [
        "## 4: Initialize Random Centroids\n",
        "## This function randomly selects k points from the dataset to be the initial centroids (starting points for clusters)"
      ],
      "metadata": {
        "id": "VZ_0ORKWp3Hz"
      }
    },
    {
      "cell_type": "code",
      "source": [
        "# Step 3: Initialize K random centroids\n",
        "def initialize_centroids(data, k):\n",
        "    return random.sample(data, k)"
      ],
      "metadata": {
        "id": "pxKMI1tYp-nT"
      },
      "execution_count": null,
      "outputs": []
    },
    {
      "cell_type": "markdown",
      "source": [
        "## 5: Assign Points to Nearest Centroid\n",
        "## This function assigns each data point to the nearest centroid by calculating distances and grouping points into clusters."
      ],
      "metadata": {
        "id": "rXeZ5Y8vqDRb"
      }
    },
    {
      "cell_type": "code",
      "source": [
        "# Step 4: Assign points to nearest centroid\n",
        "def assign_clusters(data, centroids):\n",
        "    clusters = [[] for _ in centroids]\n",
        "    for point in data:\n",
        "        distances = [euclidean_distance(point, centroid) for centroid in centroids]\n",
        "        min_distance_index = distances.index(min(distances))\n",
        "        clusters[min_distance_index].append(point)\n",
        "    return clusters"
      ],
      "metadata": {
        "id": "4Q1xzIncqJj7"
      },
      "execution_count": null,
      "outputs": []
    },
    {
      "cell_type": "markdown",
      "source": [
        "## 6: Update Centroids\n",
        "## This function updates the centroid of each cluster by taking the average (mean) of all points in that cluster."
      ],
      "metadata": {
        "id": "iUpSHEGdqMaL"
      }
    },
    {
      "cell_type": "code",
      "source": [
        "# Step 5: Update centroids\n",
        "def update_centroids(clusters):\n",
        "    new_centroids = []\n",
        "    for cluster in clusters:\n",
        "        if cluster:\n",
        "            x_mean = sum([p[0] for p in cluster]) / len(cluster)\n",
        "            y_mean = sum([p[1] for p in cluster]) / len(cluster)\n",
        "            new_centroids.append((x_mean, y_mean))\n",
        "        else:\n",
        "            # If a cluster gets no points, randomly re-initialize\n",
        "            new_centroids.append((random.randint(0, 50), random.randint(0, 50)))\n",
        "    return new_centroids\n"
      ],
      "metadata": {
        "id": "Srjfl0h_qU67"
      },
      "execution_count": null,
      "outputs": []
    },
    {
      "cell_type": "markdown",
      "source": [
        "## 7: Main K-Means Function\n",
        "## This function puts everything together:\n",
        "\n",
        "Initialize centroids.\n",
        "\n",
        "Assign points to clusters.\n",
        "\n",
        "Update centroids.\n",
        "\n",
        "Repeat until centroids stop moving (convergence) or maximum iterations are reached.\n",
        "\n"
      ],
      "metadata": {
        "id": "WHYCd1c6qXqL"
      }
    },
    {
      "cell_type": "code",
      "source": [
        "# Step 6: K-Means main function\n",
        "def k_means(data, k, max_iterations=100):\n",
        "    centroids = initialize_centroids(data, k)\n",
        "    for i in range(max_iterations):\n",
        "        clusters = assign_clusters(data, centroids)\n",
        "        new_centroids = update_centroids(clusters)\n",
        "\n",
        "        # Check for convergence (if centroids don't change)\n",
        "        if new_centroids == centroids:\n",
        "            print(f\"Converged after {i+1} iterations\")\n",
        "            break\n",
        "        centroids = new_centroids\n",
        "\n",
        "    return clusters, centroids\n"
      ],
      "metadata": {
        "id": "6y6RWmqoqe4r"
      },
      "execution_count": null,
      "outputs": []
    },
    {
      "cell_type": "markdown",
      "source": [
        "## 8: Plotting Clusters\n",
        "## This function draws the clusters using different colors for each cluster and shows centroids as big black X's.\n",
        "\n"
      ],
      "metadata": {
        "id": "ON8Ut73gqlJb"
      }
    },
    {
      "cell_type": "code",
      "source": [
        "# Step 7: Plot the clusters\n",
        "def plot_clusters(clusters, centroids, title):\n",
        "    colors = ['red', 'blue', 'green', 'purple', 'orange']\n",
        "\n",
        "    for idx, cluster in enumerate(clusters):\n",
        "        x_coords = [point[0] for point in cluster]\n",
        "        y_coords = [point[1] for point in cluster]\n",
        "        plt.scatter(x_coords, y_coords, c=colors[idx % len(colors)], label=f'Cluster {idx+1}')\n",
        "\n",
        "    # Plot centroids\n",
        "    for centroid in centroids:\n",
        "        plt.scatter(centroid[0], centroid[1], marker='X', s=200, c='black')\n",
        "\n",
        "    plt.title(title)\n",
        "    plt.xlabel('X Coordinate')\n",
        "    plt.ylabel('Y Coordinate')\n",
        "    plt.legend()\n",
        "    plt.grid(True)\n",
        "    plt.show()\n"
      ],
      "metadata": {
        "id": "CmDDNG5FqsA6"
      },
      "execution_count": null,
      "outputs": []
    },
    {
      "cell_type": "markdown",
      "source": [
        "## 9: Main Program (Run and Plot)\n",
        "## First, it plots the original data points without any clusters.\n",
        "\n",
        "Then, it runs the K-Means algorithm.\n",
        "\n",
        "Finally, it plots the final clusters formed by K-Means."
      ],
      "metadata": {
        "id": "KWAmeuJBquhb"
      }
    },
    {
      "cell_type": "code",
      "source": [
        "# Main Program\n",
        "k = 3  # Number of clusters\n",
        "\n",
        "# Plot the initial data\n",
        "x_vals = [point[0] for point in data]\n",
        "y_vals = [point[1] for point in data]\n",
        "plt.scatter(x_vals, y_vals, c='grey')\n",
        "plt.title('Initial Data Distribution')\n",
        "plt.xlabel('X Coordinate')\n",
        "plt.ylabel('Y Coordinate')\n",
        "plt.grid(True)\n",
        "plt.show()\n",
        "\n",
        "# Apply K-Means\n",
        "clusters, centroids = k_means(data, k)\n",
        "\n",
        "# Plot final clusters\n",
        "plot_clusters(clusters, centroids, 'Final Clusters after K-Means')\n"
      ],
      "metadata": {
        "colab": {
          "base_uri": "https://localhost:8080/",
          "height": 944
        },
        "id": "fcnKfUF5q1wb",
        "outputId": "f09de936-fecd-4d49-9040-6bb5b82c3d59"
      },
      "execution_count": null,
      "outputs": [
        {
          "output_type": "display_data",
          "data": {
            "text/plain": [
              "<Figure size 640x480 with 1 Axes>"
            ],
            "image/png": "[encoded data removed]"
          },
          "metadata": {}
        },
        {
          "output_type": "stream",
          "name": "stdout",
          "text": [
            "Converged after 6 iterations\n"
          ]
        },
        {
          "output_type": "display_data",
          "data": {
            "text/plain": [
              "<Figure size 640x480 with 1 Axes>"
            ],
            "image/png": "[encoded data removed]"
          },
          "metadata": {}
        }
      ]
    }
  ]
}